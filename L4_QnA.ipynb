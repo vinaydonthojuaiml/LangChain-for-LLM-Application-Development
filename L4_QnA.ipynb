{
  "cells": [
    {
      "cell_type": "markdown",
      "metadata": {
        "id": "view-in-github",
        "colab_type": "text"
      },
      "source": [
        "<a href=\"https://colab.research.google.com/github/vinaydonthojuaiml/LangChain-for-LLM-Application-Development/blob/main/L4_QnA.ipynb\" target=\"_parent\"><img src=\"https://colab.research.google.com/assets/colab-badge.svg\" alt=\"Open In Colab\"/></a>"
      ]
    },
    {
      "cell_type": "markdown",
      "id": "52824b89-532a-4e54-87e9-1410813cd39e",
      "metadata": {
        "id": "52824b89-532a-4e54-87e9-1410813cd39e"
      },
      "source": [
        "# LangChain: Q&A over Documents\n",
        "\n",
        "An example might be a tool that would allow you to query a product catalog for items of interest."
      ]
    },
    {
      "cell_type": "code",
      "execution_count": null,
      "id": "10c1f7b9",
      "metadata": {
        "height": 30,
        "id": "10c1f7b9"
      },
      "outputs": [],
      "source": [
        "#pip install --upgrade langchain"
      ]
    },
    {
      "cell_type": "code",
      "execution_count": null,
      "id": "b7ed03ed-1322-49e3-b2a2-33e94fb592ef",
      "metadata": {
        "height": 81,
        "tags": [],
        "id": "b7ed03ed-1322-49e3-b2a2-33e94fb592ef"
      },
      "outputs": [],
      "source": [
        "import os\n",
        "\n",
        "from dotenv import load_dotenv, find_dotenv\n",
        "_ = load_dotenv(find_dotenv()) # read local .env file"
      ]
    },
    {
      "cell_type": "markdown",
      "id": "ead635a0-42e2-46cc-a9f7-98419eceae6d",
      "metadata": {
        "id": "ead635a0-42e2-46cc-a9f7-98419eceae6d"
      },
      "source": [
        "Note: LLM's do not always produce the same results. When executing the code in your notebook, you may get slightly different answers that those in the video."
      ]
    },
    {
      "cell_type": "code",
      "execution_count": null,
      "id": "cc533037-0b8c-4995-96a3-45b35fa13c18",
      "metadata": {
        "height": 249,
        "id": "cc533037-0b8c-4995-96a3-45b35fa13c18"
      },
      "outputs": [],
      "source": [
        "# account for deprecation of LLM model\n",
        "import datetime\n",
        "# Get the current date\n",
        "current_date = datetime.datetime.now().date()\n",
        "\n",
        "# Define the date after which the model should be set to \"gpt-3.5-turbo\"\n",
        "target_date = datetime.date(2024, 6, 12)\n",
        "\n",
        "# Set the model variable based on the current date\n",
        "if current_date > target_date:\n",
        "    llm_model = \"gpt-3.5-turbo\"\n",
        "else:\n",
        "    llm_model = \"gpt-3.5-turbo-0301\""
      ]
    },
    {
      "cell_type": "code",
      "execution_count": null,
      "id": "974acf8e-8f88-42de-88f8-40a82cb58e8b",
      "metadata": {
        "height": 130,
        "id": "974acf8e-8f88-42de-88f8-40a82cb58e8b"
      },
      "outputs": [],
      "source": [
        "from langchain.chains import RetrievalQA\n",
        "from langchain.chat_models import ChatOpenAI\n",
        "from langchain.document_loaders import CSVLoader\n",
        "from langchain.vectorstores import DocArrayInMemorySearch\n",
        "from IPython.display import display, Markdown\n",
        "from langchain.llms import OpenAI"
      ]
    },
    {
      "cell_type": "code",
      "execution_count": null,
      "id": "7249846e",
      "metadata": {
        "height": 47,
        "id": "7249846e"
      },
      "outputs": [],
      "source": [
        "file = 'OutdoorClothingCatalog_1000.csv'\n",
        "loader = CSVLoader(file_path=file)"
      ]
    },
    {
      "cell_type": "code",
      "execution_count": null,
      "id": "5bfaba30",
      "metadata": {
        "height": 30,
        "id": "5bfaba30"
      },
      "outputs": [],
      "source": [
        "from langchain.indexes import VectorstoreIndexCreator"
      ]
    },
    {
      "cell_type": "code",
      "execution_count": null,
      "id": "9b5ab657",
      "metadata": {
        "height": 30,
        "id": "9b5ab657"
      },
      "outputs": [],
      "source": [
        "#pip install docarray"
      ]
    },
    {
      "cell_type": "code",
      "execution_count": null,
      "id": "9e200726",
      "metadata": {
        "height": 64,
        "id": "9e200726"
      },
      "outputs": [],
      "source": [
        "index = VectorstoreIndexCreator(\n",
        "    vectorstore_cls=DocArrayInMemorySearch\n",
        ").from_loaders([loader])"
      ]
    },
    {
      "cell_type": "code",
      "execution_count": null,
      "id": "34562d81",
      "metadata": {
        "height": 62,
        "id": "34562d81"
      },
      "outputs": [],
      "source": [
        "query =\"Please list all your shirts with sun protection \\\n",
        "in a table in markdown and summarize each one.\""
      ]
    },
    {
      "cell_type": "markdown",
      "id": "a9a4c615-d6e4-4dd6-bc53-a9c46df7276c",
      "metadata": {
        "id": "a9a4c615-d6e4-4dd6-bc53-a9c46df7276c"
      },
      "source": [
        "**Note**:\n",
        "- The notebook uses `langchain==0.0.179` and `openai==0.27.7`\n",
        "- For these library versions, `VectorstoreIndexCreator` uses `text-davinci-003` as the base model, which has been deprecated since 1 January 2024.\n",
        "- The replacement model, `gpt-3.5-turbo-instruct` will be used instead for the `query`.\n",
        "- The `response` format might be different than the video because of this replacement model."
      ]
    },
    {
      "cell_type": "code",
      "execution_count": null,
      "id": "cfd0cc37",
      "metadata": {
        "height": 113,
        "id": "cfd0cc37"
      },
      "outputs": [],
      "source": [
        "llm_replacement_model = OpenAI(temperature=0,\n",
        "                               model='gpt-3.5-turbo-instruct')\n",
        "\n",
        "response = index.query(query,\n",
        "                       llm = llm_replacement_model)"
      ]
    },
    {
      "cell_type": "code",
      "execution_count": null,
      "id": "ae21f1ff",
      "metadata": {
        "height": 30,
        "scrolled": true,
        "id": "ae21f1ff"
      },
      "outputs": [],
      "source": [
        "display(Markdown(response))"
      ]
    },
    {
      "cell_type": "markdown",
      "id": "2534597e-4b0c-4563-a208-e2dd91064438",
      "metadata": {
        "id": "2534597e-4b0c-4563-a208-e2dd91064438"
      },
      "source": [
        "## Step By Step"
      ]
    },
    {
      "cell_type": "code",
      "execution_count": null,
      "id": "631396c6",
      "metadata": {
        "height": 47,
        "id": "631396c6"
      },
      "outputs": [],
      "source": [
        "from langchain.document_loaders import CSVLoader\n",
        "loader = CSVLoader(file_path=file)"
      ]
    },
    {
      "cell_type": "code",
      "execution_count": null,
      "id": "6c2164b5",
      "metadata": {
        "height": 30,
        "id": "6c2164b5"
      },
      "outputs": [],
      "source": [
        "docs = loader.load()"
      ]
    },
    {
      "cell_type": "code",
      "execution_count": null,
      "id": "4a977f44",
      "metadata": {
        "height": 30,
        "id": "4a977f44"
      },
      "outputs": [],
      "source": [
        "docs[0]"
      ]
    },
    {
      "cell_type": "code",
      "execution_count": null,
      "id": "e875693a",
      "metadata": {
        "height": 47,
        "id": "e875693a"
      },
      "outputs": [],
      "source": [
        "from langchain.embeddings import OpenAIEmbeddings\n",
        "embeddings = OpenAIEmbeddings()"
      ]
    },
    {
      "cell_type": "code",
      "execution_count": null,
      "id": "779bec75",
      "metadata": {
        "height": 45,
        "id": "779bec75"
      },
      "outputs": [],
      "source": [
        "embed = embeddings.embed_query(\"Hi my name is Harrison\")"
      ]
    },
    {
      "cell_type": "code",
      "execution_count": null,
      "id": "699aaaf9",
      "metadata": {
        "height": 30,
        "id": "699aaaf9"
      },
      "outputs": [],
      "source": [
        "print(len(embed))"
      ]
    },
    {
      "cell_type": "code",
      "execution_count": null,
      "id": "9d00d346",
      "metadata": {
        "height": 30,
        "id": "9d00d346"
      },
      "outputs": [],
      "source": [
        "print(embed[:5])"
      ]
    },
    {
      "cell_type": "code",
      "execution_count": null,
      "id": "27ad0bb0",
      "metadata": {
        "height": 81,
        "id": "27ad0bb0"
      },
      "outputs": [],
      "source": [
        "db = DocArrayInMemorySearch.from_documents(\n",
        "    docs,\n",
        "    embeddings\n",
        ")"
      ]
    },
    {
      "cell_type": "code",
      "execution_count": null,
      "id": "0329bfd5",
      "metadata": {
        "height": 30,
        "id": "0329bfd5"
      },
      "outputs": [],
      "source": [
        "query = \"Please suggest a shirt with sunblocking\""
      ]
    },
    {
      "cell_type": "code",
      "execution_count": null,
      "id": "7909c6b7",
      "metadata": {
        "height": 30,
        "id": "7909c6b7"
      },
      "outputs": [],
      "source": [
        "docs = db.similarity_search(query)"
      ]
    },
    {
      "cell_type": "code",
      "execution_count": null,
      "id": "43321853",
      "metadata": {
        "height": 30,
        "id": "43321853"
      },
      "outputs": [],
      "source": [
        "len(docs)"
      ]
    },
    {
      "cell_type": "code",
      "execution_count": null,
      "id": "6eba90b5",
      "metadata": {
        "height": 30,
        "id": "6eba90b5"
      },
      "outputs": [],
      "source": [
        "docs[0]"
      ]
    },
    {
      "cell_type": "code",
      "execution_count": null,
      "id": "c0c3596e",
      "metadata": {
        "height": 30,
        "id": "c0c3596e"
      },
      "outputs": [],
      "source": [
        "retriever = db.as_retriever()"
      ]
    },
    {
      "cell_type": "code",
      "execution_count": null,
      "id": "0625f5e8",
      "metadata": {
        "height": 30,
        "id": "0625f5e8"
      },
      "outputs": [],
      "source": [
        "llm = ChatOpenAI(temperature = 0.0, model=llm_model)"
      ]
    },
    {
      "cell_type": "code",
      "execution_count": null,
      "id": "a573f58a",
      "metadata": {
        "height": 62,
        "id": "a573f58a"
      },
      "outputs": [],
      "source": [
        "qdocs = \"\".join([docs[i].page_content for i in range(len(docs))])\n"
      ]
    },
    {
      "cell_type": "code",
      "execution_count": null,
      "id": "14682d95",
      "metadata": {
        "height": 79,
        "id": "14682d95"
      },
      "outputs": [],
      "source": [
        "response = llm.call_as_llm(f\"{qdocs} Question: Please list all your \\\n",
        "shirts with sun protection in a table in markdown and summarize each one.\")\n"
      ]
    },
    {
      "cell_type": "code",
      "execution_count": null,
      "id": "8bba545b",
      "metadata": {
        "height": 30,
        "id": "8bba545b"
      },
      "outputs": [],
      "source": [
        "display(Markdown(response))"
      ]
    },
    {
      "cell_type": "code",
      "execution_count": null,
      "id": "32c94d22",
      "metadata": {
        "height": 115,
        "id": "32c94d22"
      },
      "outputs": [],
      "source": [
        "qa_stuff = RetrievalQA.from_chain_type(\n",
        "    llm=llm,\n",
        "    chain_type=\"stuff\",\n",
        "    retriever=retriever,\n",
        "    verbose=True\n",
        ")"
      ]
    },
    {
      "cell_type": "code",
      "execution_count": null,
      "id": "e4769316",
      "metadata": {
        "height": 62,
        "id": "e4769316"
      },
      "outputs": [],
      "source": [
        "query =  \"Please list all your shirts with sun protection in a table \\\n",
        "in markdown and summarize each one.\""
      ]
    },
    {
      "cell_type": "code",
      "execution_count": null,
      "id": "1fc3c2f3",
      "metadata": {
        "height": 30,
        "id": "1fc3c2f3"
      },
      "outputs": [],
      "source": [
        "response = qa_stuff.run(query)"
      ]
    },
    {
      "cell_type": "code",
      "execution_count": null,
      "id": "fba1a5db",
      "metadata": {
        "height": 30,
        "id": "fba1a5db"
      },
      "outputs": [],
      "source": [
        "display(Markdown(response))"
      ]
    },
    {
      "cell_type": "code",
      "execution_count": null,
      "id": "500ec062",
      "metadata": {
        "height": 30,
        "id": "500ec062"
      },
      "outputs": [],
      "source": [
        "response = index.query(query, llm=llm)"
      ]
    },
    {
      "cell_type": "code",
      "execution_count": null,
      "id": "2cffb19f",
      "metadata": {
        "height": 81,
        "id": "2cffb19f"
      },
      "outputs": [],
      "source": [
        "index = VectorstoreIndexCreator(\n",
        "    vectorstore_cls=DocArrayInMemorySearch,\n",
        "    embedding=embeddings,\n",
        ").from_loaders([loader])"
      ]
    },
    {
      "cell_type": "markdown",
      "id": "b325340f-26b4-4c7e-81da-da4b895ae058",
      "metadata": {
        "id": "b325340f-26b4-4c7e-81da-da4b895ae058"
      },
      "source": [
        "Reminder: Download your notebook to you local computer to save your work."
      ]
    },
    {
      "cell_type": "code",
      "execution_count": null,
      "id": "a9b58916",
      "metadata": {
        "height": 30,
        "id": "a9b58916"
      },
      "outputs": [],
      "source": []
    },
    {
      "cell_type": "code",
      "execution_count": null,
      "id": "d590b337",
      "metadata": {
        "height": 30,
        "id": "d590b337"
      },
      "outputs": [],
      "source": []
    },
    {
      "cell_type": "code",
      "execution_count": null,
      "id": "b2cb587c",
      "metadata": {
        "height": 30,
        "id": "b2cb587c"
      },
      "outputs": [],
      "source": []
    },
    {
      "cell_type": "code",
      "execution_count": null,
      "id": "1ec249f1",
      "metadata": {
        "height": 30,
        "id": "1ec249f1"
      },
      "outputs": [],
      "source": []
    },
    {
      "cell_type": "code",
      "execution_count": null,
      "id": "9d64f166",
      "metadata": {
        "height": 30,
        "id": "9d64f166"
      },
      "outputs": [],
      "source": []
    },
    {
      "cell_type": "code",
      "execution_count": null,
      "id": "21322e7e",
      "metadata": {
        "height": 30,
        "id": "21322e7e"
      },
      "outputs": [],
      "source": []
    }
  ],
  "metadata": {
    "kernelspec": {
      "display_name": "Python 3 (ipykernel)",
      "language": "python",
      "name": "python3"
    },
    "language_info": {
      "codemirror_mode": {
        "name": "ipython",
        "version": 3
      },
      "file_extension": ".py",
      "mimetype": "text/x-python",
      "name": "python",
      "nbconvert_exporter": "python",
      "pygments_lexer": "ipython3",
      "version": "3.9.17"
    },
    "colab": {
      "provenance": [],
      "include_colab_link": true
    }
  },
  "nbformat": 4,
  "nbformat_minor": 5
}